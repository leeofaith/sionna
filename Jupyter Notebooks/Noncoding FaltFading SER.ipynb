{
 "cells": [
  {
   "cell_type": "code",
   "execution_count": 3,
   "metadata": {},
   "outputs": [
    {
     "name": "stdout",
     "output_type": "stream",
     "text": [
      "Data Group 0\n",
      "Processing...\n"
     ]
    }
   ],
   "source": [
    "# Import TensorFlow and NumPy\n",
    "import tensorflow as tf\n",
    "import numpy as np\n",
    "\n",
    "# Import Sionna\n",
    "try:\n",
    "    import sionna as sn\n",
    "except ImportError as e:\n",
    "    # Install Sionna if package is not already installed\n",
    "    import os\n",
    "    os.system(\"pip install sionna\")\n",
    "    import sionna as sn\n",
    "\n",
    "# For plotting\n",
    "%matplotlib inline\n",
    "# also try %matplotlib widget\n",
    "\n",
    "import matplotlib.pyplot as plt\n",
    "\n",
    "# for performance measurements\n",
    "import time\n",
    "\n",
    "# For the implementation of the Keras models\n",
    "from tensorflow.keras import Model\n",
    "from UncodedSystemFlatFading import UncodedSystemFlatFading\n",
    "\n",
    "Block_Length = 512         # Block Length (k):512\n",
    "NUM_BITS_PER_SYMBOL = 4    # Mapping: 16QAM\n",
    "CONSTELLATION_TYPE = \"qam\" #\n",
    "DEMAPPING_METHOD = \"app\"   # Demapping Method: \"app\"\n",
    "NUM_TX_ANT = 4             # Transmit Antennas: 4\n",
    "NUM_RX_ANT = 4             # Receive Antennas: 4\n",
    "\n",
    "NUM_DATA_GROUP = 5         # Number of Data Group: 5\n",
    "BATCH_SIZE = 64            # Number of Parallelly Processed Batches: 64\n",
    "EBN0_DB_MIN = 5.0          # Minimum Eb/N0 (dB): -5\n",
    "EBN0_DB_MAX = 15.0         # Maximum Eb/N0 (dB): 20\n",
    "NUM_EBN0_POINTS = 3        # EBNO Points: 11\n",
    "\n",
    "model_uncoded_ff = UncodedSystemFlatFading(Block_Length, \n",
    "                                           NUM_BITS_PER_SYMBOL,\n",
    "                                           CONSTELLATION_TYPE,\n",
    "                                           DEMAPPING_METHOD,\n",
    "                                           NUM_TX_ANT,\n",
    "                                           NUM_RX_ANT)\n",
    "model_uncoded_ff(NUM_DATA_GROUP, \n",
    "                 BATCH_SIZE, \n",
    "                 EBN0_DB_MIN, \n",
    "                 EBN0_DB_MAX, \n",
    "                 NUM_EBN0_POINTS);"
   ]
  }
 ],
 "metadata": {
  "kernelspec": {
   "display_name": "sionna",
   "language": "python",
   "name": "python3"
  },
  "language_info": {
   "codemirror_mode": {
    "name": "ipython",
    "version": 3
   },
   "file_extension": ".py",
   "mimetype": "text/x-python",
   "name": "python",
   "nbconvert_exporter": "python",
   "pygments_lexer": "ipython3",
   "version": "3.9.13"
  },
  "orig_nbformat": 4
 },
 "nbformat": 4,
 "nbformat_minor": 2
}
