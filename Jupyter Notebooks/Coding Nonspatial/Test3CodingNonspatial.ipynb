{
 "cells": [
  {
   "attachments": {},
   "cell_type": "markdown",
   "metadata": {},
   "source": [
    "# 数据覆盖全 10dB以上有拐点"
   ]
  },
  {
   "cell_type": "code",
   "execution_count": 1,
   "metadata": {},
   "outputs": [
    {
     "name": "stderr",
     "output_type": "stream",
     "text": [
      "2023-05-26 00:54:25.839070: I tensorflow/core/platform/cpu_feature_guard.cc:182] This TensorFlow binary is optimized to use available CPU instructions in performance-critical operations.\n",
      "To enable the following instructions: AVX2 FMA, in other operations, rebuild TensorFlow with the appropriate compiler flags.\n"
     ]
    },
    {
     "name": "stdout",
     "output_type": "stream",
     "text": [
      "Number of GPUs available : 0\n",
      "|                                                                            Data Group 1                                                                           |\n",
      "|-------------------------------------------------------------------------------------------------------------------------------------------------------------------|\n",
      "|  EBN0[DB]  |  SER(ZF)  |  BER(ZF)  | Bit Errors(ZF) |  SER(LMMSE)  |  BER(LMMSE)  | Bit Errors(LMMSE) |  SER(DIP)  |  BER(DIP)  | Bit Errors(DIP) | Time Spent(s) |\n",
      "|-------------------------------------------------------------------------------------------------------------------------------------------------------------------|\n",
      "|       -25.0|  7.278e-01|  4.790e-01|          125555|     7.040e-01|     4.557e-01|             119459|   7.041e-01|   4.557e-01|           119452|      6.699e+03|\n",
      "|       CODED|  7.292e-01|  4.854e-01|          127240|     7.038e-01|     4.675e-01|             122545|   7.035e-01|   4.670e-01|           122426|      6.699e+03|\n",
      "|-------------------------------------------------------------------------------------------------------------------------------------------------------------------|\n",
      "|       -17.5|  7.040e-01|  4.553e-01|          119362|     6.422e-01|     4.025e-01|             105523|   6.445e-01|   4.046e-01|           106069|      6.969e+03|\n",
      "|       CODED|  6.998e-01|  4.662e-01|          122213|     6.402e-01|     4.237e-01|             111078|   6.407e-01|   4.248e-01|           111346|      6.969e+03|\n",
      "|-------------------------------------------------------------------------------------------------------------------------------------------------------------------|\n",
      "|       -10.0|  6.260e-01|  3.908e-01|          102435|     4.975e-01|     2.936e-01|              76959|   5.032e-01|   2.978e-01|            78069|      7.703e+03|\n",
      "|       CODED|  6.246e-01|  4.164e-01|          109159|     4.967e-01|     3.362e-01|              88138|   5.029e-01|   3.419e-01|            89624|      7.703e+03|\n",
      "|-------------------------------------------------------------------------------------------------------------------------------------------------------------------|\n",
      "|        -2.5|  4.506e-01|  2.667e-01|           69907|     2.735e-01|     1.502e-01|              39379|   2.593e-01|   1.427e-01|            37402|      9.069e+03|\n",
      "|       CODED|  4.521e-01|  3.121e-01|           81826|     2.751e-01|     1.150e-01|              30142|   2.606e-01|   1.787e-01|            46858|      9.069e+03|\n",
      "|-------------------------------------------------------------------------------------------------------------------------------------------------------------------|\n",
      "|         5.0|"
     ]
    },
    {
     "ename": "KeyboardInterrupt",
     "evalue": "",
     "output_type": "error",
     "traceback": [
      "\u001b[0;31m---------------------------------------------------------------------------\u001b[0m",
      "\u001b[0;31mKeyboardInterrupt\u001b[0m                         Traceback (most recent call last)",
      "Cell \u001b[0;32mIn[1], line 50\u001b[0m\n\u001b[1;32m     40\u001b[0m NUM_EBN0_POINTS \u001b[39m=\u001b[39m \u001b[39m5\u001b[39m        \u001b[39m# EBNO Points\u001b[39;00m\n\u001b[1;32m     42\u001b[0m model_coded_ff \u001b[39m=\u001b[39m CodedSystemFlatFading(Block_Length, \n\u001b[1;32m     43\u001b[0m                                        NUM_BITS_PER_SYMBOL,\n\u001b[1;32m     44\u001b[0m                                        CONSTELLATION_TYPE,\n\u001b[0;32m   (...)\u001b[0m\n\u001b[1;32m     47\u001b[0m                                        NUM_TX_ANT,\n\u001b[1;32m     48\u001b[0m                                        CODERATE)\n\u001b[0;32m---> 50\u001b[0m model_coded_ff(NUM_DATA_GROUP, BATCH_SIZE, EBN0_DB_MIN, EBN0_DB_MAX, NUM_EBN0_POINTS)\n",
      "File \u001b[0;32m~/Documents/GitHub/sionna/Jupyter Notebooks/Coding Nonspatial/CodedSystemFlatFading.py:278\u001b[0m, in \u001b[0;36mCodedSystemFlatFading.__call__\u001b[0;34m(self, NUM_DATA_GROUP, BATCH_SIZE, EBN0_DB_MIN, EBN0_DB_MAX, NUM_EBN0_POINTS)\u001b[0m\n\u001b[1;32m    275\u001b[0m coded_X_inCH_real,coded_H_real,coded_Y_real \u001b[39m=\u001b[39m \u001b[39mself\u001b[39m\u001b[39m.\u001b[39mc2r\u001b[39m.\u001b[39mC2R(coded_x_reshape,coded_h,coded_y)\n\u001b[1;32m    276\u001b[0m \u001b[39m# print('Coded_Y_real =', Coded_Y_real)\u001b[39;00m\n\u001b[1;32m    277\u001b[0m \u001b[39m# print('Coded_H_real =', Coded_H_real)\u001b[39;00m\n\u001b[0;32m--> 278\u001b[0m coded_x_dip_ay,coded_num_stop_point \u001b[39m=\u001b[39m \u001b[39mself\u001b[39;49m\u001b[39m.\u001b[39;49mdip\u001b[39m.\u001b[39;49mDIP(coded_Y_real,coded_H_real)\n\u001b[1;32m    279\u001b[0m \u001b[39m# print('coded_x_dip_ay =',coded_x_dip_ay)\u001b[39;00m\n\u001b[1;32m    280\u001b[0m \u001b[39m# print('coded_x_dip_ay.dtype',coded_x_dip_ay.dtype)\u001b[39;00m\n\u001b[1;32m    281\u001b[0m coded_x_dip_ay_real_part,coded_x_dip_ay_imag_part \u001b[39m=\u001b[39m tf\u001b[39m.\u001b[39msplit(coded_x_dip_ay, num_or_size_splits\u001b[39m=\u001b[39m\u001b[39m2\u001b[39m, axis\u001b[39m=\u001b[39m\u001b[39m2\u001b[39m)\n",
      "File \u001b[0;32m~/Documents/GitHub/sionna/Jupyter Notebooks/Coding Nonspatial/xyDIP.py:106\u001b[0m, in \u001b[0;36mDeepImagePrior.DIP\u001b[0;34m(self, Y, H)\u001b[0m\n\u001b[1;32m    104\u001b[0m Y_hat \u001b[39m=\u001b[39m torch\u001b[39m.\u001b[39msum(result, axis\u001b[39m=\u001b[39m\u001b[39m1\u001b[39m) \u001b[39m# type: ignore\u001b[39;00m\n\u001b[1;32m    105\u001b[0m total_loss \u001b[39m=\u001b[39m mse(Y_hat,y_torch)\n\u001b[0;32m--> 106\u001b[0m total_loss\u001b[39m.\u001b[39;49mbackward()\n\u001b[1;32m    107\u001b[0m optimizer\u001b[39m.\u001b[39mstep()\n\u001b[1;32m    108\u001b[0m x_dip \u001b[39m=\u001b[39m out\u001b[39m.\u001b[39mdetach()\u001b[39m.\u001b[39mcpu()\u001b[39m.\u001b[39mnumpy()\n",
      "File \u001b[0;32m/opt/anaconda3/envs/Sionna/lib/python3.9/site-packages/torch/_tensor.py:487\u001b[0m, in \u001b[0;36mTensor.backward\u001b[0;34m(self, gradient, retain_graph, create_graph, inputs)\u001b[0m\n\u001b[1;32m    477\u001b[0m \u001b[39mif\u001b[39;00m has_torch_function_unary(\u001b[39mself\u001b[39m):\n\u001b[1;32m    478\u001b[0m     \u001b[39mreturn\u001b[39;00m handle_torch_function(\n\u001b[1;32m    479\u001b[0m         Tensor\u001b[39m.\u001b[39mbackward,\n\u001b[1;32m    480\u001b[0m         (\u001b[39mself\u001b[39m,),\n\u001b[0;32m   (...)\u001b[0m\n\u001b[1;32m    485\u001b[0m         inputs\u001b[39m=\u001b[39minputs,\n\u001b[1;32m    486\u001b[0m     )\n\u001b[0;32m--> 487\u001b[0m torch\u001b[39m.\u001b[39;49mautograd\u001b[39m.\u001b[39;49mbackward(\n\u001b[1;32m    488\u001b[0m     \u001b[39mself\u001b[39;49m, gradient, retain_graph, create_graph, inputs\u001b[39m=\u001b[39;49minputs\n\u001b[1;32m    489\u001b[0m )\n",
      "File \u001b[0;32m/opt/anaconda3/envs/Sionna/lib/python3.9/site-packages/torch/autograd/__init__.py:200\u001b[0m, in \u001b[0;36mbackward\u001b[0;34m(tensors, grad_tensors, retain_graph, create_graph, grad_variables, inputs)\u001b[0m\n\u001b[1;32m    195\u001b[0m     retain_graph \u001b[39m=\u001b[39m create_graph\n\u001b[1;32m    197\u001b[0m \u001b[39m# The reason we repeat same the comment below is that\u001b[39;00m\n\u001b[1;32m    198\u001b[0m \u001b[39m# some Python versions print out the first line of a multi-line function\u001b[39;00m\n\u001b[1;32m    199\u001b[0m \u001b[39m# calls in the traceback and some print out the last line\u001b[39;00m\n\u001b[0;32m--> 200\u001b[0m Variable\u001b[39m.\u001b[39;49m_execution_engine\u001b[39m.\u001b[39;49mrun_backward(  \u001b[39m# Calls into the C++ engine to run the backward pass\u001b[39;49;00m\n\u001b[1;32m    201\u001b[0m     tensors, grad_tensors_, retain_graph, create_graph, inputs,\n\u001b[1;32m    202\u001b[0m     allow_unreachable\u001b[39m=\u001b[39;49m\u001b[39mTrue\u001b[39;49;00m, accumulate_grad\u001b[39m=\u001b[39;49m\u001b[39mTrue\u001b[39;49;00m)\n",
      "\u001b[0;31mKeyboardInterrupt\u001b[0m: "
     ]
    }
   ],
   "source": [
    "# Import TensorFlow and NumPy\n",
    "import tensorflow as tf\n",
    "import numpy as np\n",
    "\n",
    "# Import Sionna\n",
    "try:\n",
    "    import sionna as sn\n",
    "except ImportError as e:\n",
    "    # Install Sionna if package is not already installed\n",
    "    import os\n",
    "    os.system(\"pip install sionna\")\n",
    "    import sionna as sn\n",
    "\n",
    "# For plotting\n",
    "%matplotlib inline\n",
    "# also try %matplotlib widget\n",
    "\n",
    "import matplotlib.pyplot as plt\n",
    "\n",
    "# for performance measurements\n",
    "import time\n",
    "\n",
    "# For the implementation of the Keras models\n",
    "from tensorflow import keras\n",
    "from keras import Model\n",
    "from CodedSystemFlatFading import CodedSystemFlatFading\n",
    "\n",
    "Block_Length = 256         # Block Length (k)\n",
    "NUM_BITS_PER_SYMBOL = 2    # Mapping: 4QAM\n",
    "CONSTELLATION_TYPE = \"qam\" #\n",
    "DEMAPPING_METHOD = \"app\"   # Demapping Method: \"app\"\n",
    "NUM_TX_ANT = 4             # Transmit Antennas\n",
    "NUM_RX_ANT = 4             # Receive Antennas\n",
    "CODERATE = 0.5             # Code Rate\n",
    "\n",
    "NUM_DATA_GROUP = 1         # Number of Data Group\n",
    "BATCH_SIZE = 256           # Number of Parallelly Processed Batches\n",
    "EBN0_DB_MIN = -25.0          # Minimum Eb/N0 (dB)\n",
    "EBN0_DB_MAX = 5.0         # Maximum Eb/N0 (dB)\n",
    "NUM_EBN0_POINTS = 5        # EBNO Points\n",
    "\n",
    "model_coded_ff = CodedSystemFlatFading(Block_Length, \n",
    "                                       NUM_BITS_PER_SYMBOL,\n",
    "                                       CONSTELLATION_TYPE,\n",
    "                                       DEMAPPING_METHOD,\n",
    "                                       NUM_RX_ANT,\n",
    "                                       NUM_TX_ANT,\n",
    "                                       CODERATE)\n",
    "\n",
    "model_coded_ff(NUM_DATA_GROUP, BATCH_SIZE, EBN0_DB_MIN, EBN0_DB_MAX, NUM_EBN0_POINTS)"
   ]
  }
 ],
 "metadata": {
  "kernelspec": {
   "display_name": "Sionna",
   "language": "python",
   "name": "python3"
  },
  "language_info": {
   "codemirror_mode": {
    "name": "ipython",
    "version": 3
   },
   "file_extension": ".py",
   "mimetype": "text/x-python",
   "name": "python",
   "nbconvert_exporter": "python",
   "pygments_lexer": "ipython3",
   "version": "3.9.13"
  },
  "orig_nbformat": 4
 },
 "nbformat": 4,
 "nbformat_minor": 2
}
