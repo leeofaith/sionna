{
 "cells": [
  {
   "cell_type": "code",
   "execution_count": 3,
   "metadata": {},
   "outputs": [
    {
     "ename": "KeyError",
     "evalue": "'legend'",
     "output_type": "error",
     "traceback": [
      "\u001b[0;31m---------------------------------------------------------------------------\u001b[0m",
      "\u001b[0;31mKeyError\u001b[0m                                  Traceback (most recent call last)",
      "Cell \u001b[0;32mIn[3], line 9\u001b[0m\n\u001b[1;32m      5\u001b[0m y \u001b[39m=\u001b[39m [\u001b[39m6\u001b[39m, \u001b[39m7\u001b[39m, \u001b[39m2\u001b[39m, \u001b[39m4\u001b[39m, \u001b[39m5\u001b[39m]\n\u001b[1;32m      6\u001b[0m p \u001b[39m=\u001b[39m figure(title\u001b[39m=\u001b[39m\u001b[39m\"\u001b[39m\u001b[39msimple line example\u001b[39m\u001b[39m\"\u001b[39m,   \u001b[39m# Step 2 \u001b[39;00m\n\u001b[1;32m      7\u001b[0m            x_axis_label\u001b[39m=\u001b[39m\u001b[39m'\u001b[39m\u001b[39mx\u001b[39m\u001b[39m'\u001b[39m,\n\u001b[1;32m      8\u001b[0m            y_axis_label\u001b[39m=\u001b[39m\u001b[39m'\u001b[39m\u001b[39my\u001b[39m\u001b[39m'\u001b[39m)\n\u001b[0;32m----> 9\u001b[0m p\u001b[39m.\u001b[39;49mline(x, y, legend\u001b[39m=\u001b[39;49m\u001b[39m\"\u001b[39;49m\u001b[39mTemp.\u001b[39;49m\u001b[39m\"\u001b[39;49m, line_width\u001b[39m=\u001b[39;49m\u001b[39m2\u001b[39;49m)\u001b[39m# Step 3\u001b[39;00m\n\u001b[1;32m     10\u001b[0m output_file(\u001b[39m\"\u001b[39m\u001b[39mlines.html\u001b[39m\u001b[39m\"\u001b[39m)                 \u001b[39m# Step 4 \u001b[39;00m\n\u001b[1;32m     11\u001b[0m show(p)\n",
      "File \u001b[0;32m/opt/anaconda3/envs/Sionna/lib/python3.9/site-packages/bokeh/plotting/_decorators.py:87\u001b[0m, in \u001b[0;36mglyph_method.<locals>.decorator.<locals>.wrapped\u001b[0;34m(self, *args, **kwargs)\u001b[0m\n\u001b[1;32m     85\u001b[0m \u001b[39mif\u001b[39;00m \u001b[39mself\u001b[39m\u001b[39m.\u001b[39mcoordinates \u001b[39mis\u001b[39;00m \u001b[39mnot\u001b[39;00m \u001b[39mNone\u001b[39;00m:\n\u001b[1;32m     86\u001b[0m     kwargs\u001b[39m.\u001b[39msetdefault(\u001b[39m\"\u001b[39m\u001b[39mcoordinates\u001b[39m\u001b[39m\"\u001b[39m, \u001b[39mself\u001b[39m\u001b[39m.\u001b[39mcoordinates)\n\u001b[0;32m---> 87\u001b[0m \u001b[39mreturn\u001b[39;00m create_renderer(glyphclass, \u001b[39mself\u001b[39;49m\u001b[39m.\u001b[39;49mplot, \u001b[39m*\u001b[39;49m\u001b[39m*\u001b[39;49mkwargs)\n",
      "File \u001b[0;32m/opt/anaconda3/envs/Sionna/lib/python3.9/site-packages/bokeh/plotting/_renderer.py:133\u001b[0m, in \u001b[0;36mcreate_renderer\u001b[0;34m(glyphclass, plot, **kwargs)\u001b[0m\n\u001b[1;32m    127\u001b[0m plot\u001b[39m.\u001b[39mrenderers\u001b[39m.\u001b[39mappend(glyph_renderer)\n\u001b[1;32m    129\u001b[0m \u001b[39mif\u001b[39;00m legend_kwarg:\n\u001b[1;32m    130\u001b[0m     \u001b[39m# It must be after the renderer is added because\u001b[39;00m\n\u001b[1;32m    131\u001b[0m     \u001b[39m# if it creates a new `LegendItem`, the referenced\u001b[39;00m\n\u001b[1;32m    132\u001b[0m     \u001b[39m# renderer must already be present.\u001b[39;00m\n\u001b[0;32m--> 133\u001b[0m     update_legend(plot, legend_kwarg, glyph_renderer)\n\u001b[1;32m    135\u001b[0m \u001b[39mreturn\u001b[39;00m glyph_renderer\n",
      "File \u001b[0;32m/opt/anaconda3/envs/Sionna/lib/python3.9/site-packages/bokeh/plotting/_legends.py:57\u001b[0m, in \u001b[0;36mupdate_legend\u001b[0;34m(plot, legend_kwarg, glyph_renderer)\u001b[0m\n\u001b[1;32m     54\u001b[0m legend \u001b[39m=\u001b[39m _get_or_create_legend(plot)\n\u001b[1;32m     55\u001b[0m kwarg, value \u001b[39m=\u001b[39m \u001b[39mlist\u001b[39m(legend_kwarg\u001b[39m.\u001b[39mitems())[\u001b[39m0\u001b[39m]\n\u001b[0;32m---> 57\u001b[0m _LEGEND_KWARG_HANDLERS[kwarg](value, legend, glyph_renderer)\n",
      "\u001b[0;31mKeyError\u001b[0m: 'legend'"
     ]
    }
   ],
   "source": [
    "import bokeh\n",
    "from bokeh.plotting import figure\n",
    "from bokeh.io import output_file, show\n",
    "x = [1, 2, 3, 4, 5]                       # Step 1\n",
    "y = [6, 7, 2, 4, 5]\n",
    "p = figure(title=\"simple line example\",   # Step 2 \n",
    "           x_axis_label='x',\n",
    "           y_axis_label='y')\n",
    "p.line(x, y, legend=\"Temp.\", line_width=2)# Step 3\n",
    "output_file(\"lines.html\")                 # Step 4 \n",
    "show(p)                                   # Step 5"
   ]
  }
 ],
 "metadata": {
  "kernelspec": {
   "display_name": "Sionna",
   "language": "python",
   "name": "python3"
  },
  "language_info": {
   "codemirror_mode": {
    "name": "ipython",
    "version": 3
   },
   "file_extension": ".py",
   "mimetype": "text/x-python",
   "name": "python",
   "nbconvert_exporter": "python",
   "pygments_lexer": "ipython3",
   "version": "3.9.13"
  },
  "orig_nbformat": 4
 },
 "nbformat": 4,
 "nbformat_minor": 2
}
