{
 "cells": [
  {
   "attachments": {},
   "cell_type": "markdown",
   "metadata": {},
   "source": [
    "# 数据覆盖全"
   ]
  },
  {
   "cell_type": "code",
   "execution_count": 1,
   "metadata": {},
   "outputs": [
    {
     "name": "stderr",
     "output_type": "stream",
     "text": [
      "2023-05-24 23:39:02.816633: I tensorflow/core/platform/cpu_feature_guard.cc:182] This TensorFlow binary is optimized to use available CPU instructions in performance-critical operations.\n",
      "To enable the following instructions: AVX2 FMA, in other operations, rebuild TensorFlow with the appropriate compiler flags.\n"
     ]
    },
    {
     "name": "stdout",
     "output_type": "stream",
     "text": [
      "Number of GPUs available : 0\n",
      "|                                                                            Data Group 1                                                                           |\n",
      "|-------------------------------------------------------------------------------------------------------------------------------------------------------------------|\n",
      "|  EBN0[DB]  |  SER(ZF)  |  BER(ZF)  | Bit Errors(ZF) |  SER(LMMSE)  |  BER(LMMSE)  | Bit Errors(LMMSE) |  SER(DIP)  |  BER(DIP)  | Bit Errors(DIP) | Time Spent(s) |\n",
      "|-------------------------------------------------------------------------------------------------------------------------------------------------------------------|\n",
      "|       -20.0|  9.115e-01|  4.651e-01|          121934|     8.793e-01|     4.264e-01|             111789|   8.816e-01|   4.407e-01|           115514|      1.767e+03|\n",
      "|-------------------------------------------------------------------------------------------------------------------------------------------------------------------|\n",
      "|       -12.0|  8.628e-01|  4.061e-01|          106461|     7.847e-01|     3.255e-01|              85319|   7.971e-01|   3.832e-01|           100456|      1.860e+03|\n",
      "|-------------------------------------------------------------------------------------------------------------------------------------------------------------------|\n",
      "|        -4.0|  7.016e-01|  2.758e-01|           72305|     5.885e-01|     1.991e-01|              52180|   5.842e-01|   2.013e-01|            52782|      2.052e+03|\n",
      "|-------------------------------------------------------------------------------------------------------------------------------------------------------------------|\n",
      "|         4.0|  3.580e-01|  1.179e-01|           30897|     2.806e-01|     8.274e-02|              21689|   2.256e-01|   6.691e-02|            17541|      1.855e+03|\n",
      "|-------------------------------------------------------------------------------------------------------------------------------------------------------------------|\n",
      "|        12.0|  8.928e-02|  2.787e-02|            7307|     6.752e-02|     1.924e-02|               5044|   6.575e-02|   1.958e-02|             5133|      1.864e+03|\n",
      "|-------------------------------------------------------------------------------------------------------------------------------------------------------------------|\n",
      "|        20.0|"
     ]
    }
   ],
   "source": [
    "# Import TensorFlow and NumPy\n",
    "import tensorflow as tf\n",
    "import numpy as np\n",
    "\n",
    "# Import Sionna\n",
    "try:\n",
    "    import sionna as sn\n",
    "except ImportError as e:\n",
    "    # Install Sionna if package is not already installed\n",
    "    import os\n",
    "    os.system(\"pip install sionna\")\n",
    "    import sionna as sn\n",
    "\n",
    "# For plotting\n",
    "%matplotlib inline\n",
    "# also try %matplotlib widget\n",
    "\n",
    "import matplotlib.pyplot as plt\n",
    "\n",
    "# for performance measurements\n",
    "import time\n",
    "\n",
    "# For the implementation of the Keras models\n",
    "from tensorflow import keras\n",
    "from keras import Model\n",
    "from UncodedSystemFlatFading import UncodedSystemFlatFading\n",
    "\n",
    "Block_Length = 256         # Block Length (k)\n",
    "NUM_BITS_PER_SYMBOL = 4    # Mapping: 16QAM\n",
    "CONSTELLATION_TYPE = \"qam\" #\n",
    "DEMAPPING_METHOD = \"app\"   # Demapping Method: \"app\"\n",
    "NUM_TX_ANT = 4             # Transmit Antennas\n",
    "NUM_RX_ANT = 4             # Receive Antennas\n",
    "\n",
    "NUM_DATA_GROUP = 3         # Number of Data Group\n",
    "BATCH_SIZE = 256           # Number of Parallelly Processed Batches\n",
    "EBN0_DB_MIN = -20.0        # Minimum Eb/N0 (dB)\n",
    "EBN0_DB_MAX = 20.0         # Maximum Eb/N0 (dB)\n",
    "NUM_EBN0_POINTS = 6        # EBNO Points\n",
    "\n",
    "model_uncoded_ff = UncodedSystemFlatFading(Block_Length, \n",
    "                                           NUM_BITS_PER_SYMBOL,\n",
    "                                           CONSTELLATION_TYPE,\n",
    "                                           DEMAPPING_METHOD,\n",
    "                                           NUM_RX_ANT,\n",
    "                                           NUM_TX_ANT)\n",
    "\n",
    "model_uncoded_ff(NUM_DATA_GROUP, BATCH_SIZE, EBN0_DB_MIN, EBN0_DB_MAX, NUM_EBN0_POINTS)"
   ]
  }
 ],
 "metadata": {
  "kernelspec": {
   "display_name": "Sionna",
   "language": "python",
   "name": "python3"
  },
  "language_info": {
   "codemirror_mode": {
    "name": "ipython",
    "version": 3
   },
   "file_extension": ".py",
   "mimetype": "text/x-python",
   "name": "python",
   "nbconvert_exporter": "python",
   "pygments_lexer": "ipython3",
   "version": "3.9.13"
  },
  "orig_nbformat": 4
 },
 "nbformat": 4,
 "nbformat_minor": 2
}
