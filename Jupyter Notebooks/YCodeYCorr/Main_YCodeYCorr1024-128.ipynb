{
 "cells": [
  {
   "cell_type": "code",
   "execution_count": 1,
   "metadata": {},
   "outputs": [
    {
     "name": "stderr",
     "output_type": "stream",
     "text": [
      "2023-05-30 01:50:02.106055: I tensorflow/core/platform/cpu_feature_guard.cc:182] This TensorFlow binary is optimized to use available CPU instructions in performance-critical operations.\n",
      "To enable the following instructions: AVX2 FMA, in other operations, rebuild TensorFlow with the appropriate compiler flags.\n"
     ]
    },
    {
     "name": "stdout",
     "output_type": "stream",
     "text": [
      "Number of GPUs available : 0\n",
      "|                                                         TX_ANT_CORRELATION: 0.1 & RX_ANT_CORRELATION: 0.1                                                         |\n",
      "|                                                                            Data Group 1                                                                           |\n",
      "|-------------------------------------------------------------------------------------------------------------------------------------------------------------------|\n",
      "|  EBN0[DB]  |  SER(ZF)  |  BER(ZF)  | Bit Errors(ZF) |  SER(LMMSE)  |  BER(LMMSE)  | Bit Errors(LMMSE) |  SER(DIP)  |  BER(DIP)  | Bit Errors(DIP) | Time Spent(s) |\n",
      "|-------------------------------------------------------------------------------------------------------------------------------------------------------------------|\n",
      "|       -15.0|"
     ]
    }
   ],
   "source": [
    "# Import TensorFlow and NumPy\n",
    "import tensorflow as tf\n",
    "import numpy as np\n",
    "\n",
    "# Import Sionna\n",
    "try:\n",
    "    import sionna as sn\n",
    "except ImportError as e:\n",
    "    # Install Sionna if package is not already installed\n",
    "    import os\n",
    "    os.system(\"pip install sionna\")\n",
    "    import sionna as sn\n",
    "\n",
    "# For plotting\n",
    "%matplotlib inline\n",
    "# also try %matplotlib widget\n",
    "\n",
    "import matplotlib.pyplot as plt\n",
    "\n",
    "# for performance measurements\n",
    "import time\n",
    "\n",
    "# For the implementation of the Keras models\n",
    "from tensorflow import keras\n",
    "from keras import Model\n",
    "from YCodeYCorr import ycodeycorr\n",
    "\n",
    "### Simulation\n",
    "Block_Length = 1024             # Block Length (k)\n",
    "NUM_BITS_PER_SYMBOL = 2         # Mapping: 4QAM\n",
    "CONSTELLATION_TYPE = \"qam\"      # Constellation/Modulation Type\n",
    "DEMAPPING_METHOD = \"app\"        # Demapping Method: \"app\"\n",
    "NUM_TX_ANT = 8                  # Transmit Antennas\n",
    "NUM_RX_ANT = 8                  # Receive Antennas\n",
    "CODERATE = 0.5                  # Code Rate\n",
    "CORRELATION_INDEX_MIN = 0.1     # Minimum Spatial Correlation\n",
    "CORRELATION_INDEX_MAX = 0.9     # Maximum Spatial Correlation\n",
    "CORRELATION_INDEX_POINTS = 2    # Correlation Points between Max and Min\n",
    "\n",
    "NUM_DATA_GROUP = 1              # Number of Data Group\n",
    "BATCH_SIZE = 128                # Number of Parallelly Processed Batches\n",
    "EBN0_DB_MIN = -15.0             # Minimum Eb/N0 (dB)\n",
    "EBN0_DB_MAX = 5.0               # Maximum Eb/N0 (dB)\n",
    "NUM_EBN0_POINTS = 5             # EBNO Points\n",
    "\n",
    "model_ycodeycorr = ycodeycorr(Block_Length, \n",
    "                                NUM_BITS_PER_SYMBOL,\n",
    "                                CONSTELLATION_TYPE,\n",
    "                                DEMAPPING_METHOD,\n",
    "                                NUM_RX_ANT,\n",
    "                                NUM_TX_ANT,\n",
    "                                CODERATE,\n",
    "                                CORRELATION_INDEX_MIN,\n",
    "                                CORRELATION_INDEX_MAX,\n",
    "                                CORRELATION_INDEX_POINTS)\n",
    "\n",
    "model_ycodeycorr(NUM_DATA_GROUP, BATCH_SIZE, EBN0_DB_MIN, EBN0_DB_MAX, NUM_EBN0_POINTS)"
   ]
  }
 ],
 "metadata": {
  "kernelspec": {
   "display_name": "Sionna",
   "language": "python",
   "name": "python3"
  },
  "language_info": {
   "codemirror_mode": {
    "name": "ipython",
    "version": 3
   },
   "file_extension": ".py",
   "mimetype": "text/x-python",
   "name": "python",
   "nbconvert_exporter": "python",
   "pygments_lexer": "ipython3",
   "version": "3.9.13"
  },
  "orig_nbformat": 4
 },
 "nbformat": 4,
 "nbformat_minor": 2
}
