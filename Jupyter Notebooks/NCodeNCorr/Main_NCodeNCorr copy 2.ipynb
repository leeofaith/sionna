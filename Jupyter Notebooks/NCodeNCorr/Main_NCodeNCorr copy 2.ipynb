{
 "cells": [
  {
   "cell_type": "code",
   "execution_count": 1,
   "metadata": {},
   "outputs": [
    {
     "name": "stderr",
     "output_type": "stream",
     "text": [
      "2023-05-26 14:21:14.331093: I tensorflow/core/platform/cpu_feature_guard.cc:182] This TensorFlow binary is optimized to use available CPU instructions in performance-critical operations.\n",
      "To enable the following instructions: AVX2 FMA, in other operations, rebuild TensorFlow with the appropriate compiler flags.\n"
     ]
    },
    {
     "name": "stdout",
     "output_type": "stream",
     "text": [
      "Number of GPUs available : 0\n",
      "|                                                                            Data Group 1                                                                           |\n",
      "|-------------------------------------------------------------------------------------------------------------------------------------------------------------------|\n",
      "|  EBN0[DB]  |  SER(ZF)  |  BER(ZF)  | Bit Errors(ZF) |  SER(LMMSE)  |  BER(LMMSE)  | Bit Errors(LMMSE) |  SER(DIP)  |  BER(DIP)  | Bit Errors(DIP) | Time Spent(s) |\n",
      "|-------------------------------------------------------------------------------------------------------------------------------------------------------------------|\n",
      "|         0.0|  2.591e-01|  1.470e-01|           38541|     6.944e-02|     3.592e-02|               9417|   1.945e-02|   1.004e-02|             2631|      1.323e+03|\n",
      "|-------------------------------------------------------------------------------------------------------------------------------------------------------------------|\n",
      "|        6.25|  9.235e-02|  5.131e-02|           13450|     1.644e-02|     8.465e-03|               2219|   1.137e-03|   5.913e-04|              155|      1.276e+03|\n",
      "|-------------------------------------------------------------------------------------------------------------------------------------------------------------------|\n",
      "|        12.5|  2.390e-02|  1.315e-02|            3447|     3.487e-03|     1.766e-03|                463|   6.866e-04|   3.586e-04|               94|      1.275e+03|\n",
      "|-------------------------------------------------------------------------------------------------------------------------------------------------------------------|\n",
      "|       18.75|"
     ]
    }
   ],
   "source": [
    "# Import TensorFlow and NumPy\n",
    "import tensorflow as tf\n",
    "import numpy as np\n",
    "\n",
    "# Import Sionna\n",
    "try:\n",
    "    import sionna as sn\n",
    "except ImportError as e:\n",
    "    # Install Sionna if package is not already installed\n",
    "    import os\n",
    "    os.system(\"pip install sionna\")\n",
    "    import sionna as sn\n",
    "\n",
    "# For plotting\n",
    "%matplotlib inline\n",
    "# also try %matplotlib widget\n",
    "\n",
    "import matplotlib.pyplot as plt\n",
    "\n",
    "# for performance measurements\n",
    "import time\n",
    "\n",
    "# For the implementation of the Keras models\n",
    "from tensorflow import keras\n",
    "from keras import Model\n",
    "from NCodeNCorr import ncodencorr\n",
    "\n",
    "Block_Length = 256         # Block Length (k)\n",
    "NUM_BITS_PER_SYMBOL = 2    # Mapping: 4QAM\n",
    "CONSTELLATION_TYPE = \"qam\" #\n",
    "DEMAPPING_METHOD = \"app\"   # Demapping Method: \"app\"\n",
    "NUM_TX_ANT = 8             # Transmit Antennas\n",
    "NUM_RX_ANT = 8             # Receive Antennas\n",
    "\n",
    "NUM_DATA_GROUP = 1         # Number of Data Group\n",
    "BATCH_SIZE = 128           # Number of Parallelly Processed Batches\n",
    "EBN0_DB_MIN = 0.0          # Minimum Eb/N0 (dB)\n",
    "EBN0_DB_MAX = 25.0         # Maximum Eb/N0 (dB)\n",
    "NUM_EBN0_POINTS = 5        # EBNO Points\n",
    "\n",
    "model_ncodencorr = ncodencorr(Block_Length, \n",
    "                              NUM_BITS_PER_SYMBOL,\n",
    "                              CONSTELLATION_TYPE,\n",
    "                              DEMAPPING_METHOD,\n",
    "                              NUM_RX_ANT,\n",
    "                              NUM_TX_ANT)\n",
    "\n",
    "model_ncodencorr(NUM_DATA_GROUP,\n",
    "                 BATCH_SIZE,\n",
    "                 EBN0_DB_MIN,\n",
    "                 EBN0_DB_MAX,\n",
    "                 NUM_EBN0_POINTS)"
   ]
  }
 ],
 "metadata": {
  "kernelspec": {
   "display_name": "Sionna",
   "language": "python",
   "name": "python3"
  },
  "language_info": {
   "codemirror_mode": {
    "name": "ipython",
    "version": 3
   },
   "file_extension": ".py",
   "mimetype": "text/x-python",
   "name": "python",
   "nbconvert_exporter": "python",
   "pygments_lexer": "ipython3",
   "version": "3.9.13"
  },
  "orig_nbformat": 4
 },
 "nbformat": 4,
 "nbformat_minor": 2
}
