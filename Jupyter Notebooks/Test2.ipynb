{
 "cells": [
  {
   "attachments": {},
   "cell_type": "markdown",
   "metadata": {},
   "source": [
    "# 数据太大了，跑不完"
   ]
  },
  {
   "cell_type": "code",
   "execution_count": 1,
   "metadata": {},
   "outputs": [
    {
     "name": "stderr",
     "output_type": "stream",
     "text": [
      "2023-05-24 18:04:17.542304: I tensorflow/core/platform/cpu_feature_guard.cc:182] This TensorFlow binary is optimized to use available CPU instructions in performance-critical operations.\n",
      "To enable the following instructions: AVX2 FMA, in other operations, rebuild TensorFlow with the appropriate compiler flags.\n"
     ]
    },
    {
     "name": "stdout",
     "output_type": "stream",
     "text": [
      "Number of GPUs available : 0\n",
      "|                                                                            Data Group 1                                                                           |\n",
      "|-------------------------------------------------------------------------------------------------------------------------------------------------------------------|\n",
      "|  EBN0[DB]  |  SER(ZF)  |  BER(ZF)  | Bit Errors(ZF) |  SER(LMMSE)  |  BER(LMMSE)  | Bit Errors(LMMSE) |  SER(DIP)  |  BER(DIP)  | Bit Errors(DIP) | Time Spent(s) |\n",
      "|-------------------------------------------------------------------------------------------------------------------------------------------------------------------|\n",
      "|         0.0|  5.146e-03|  1.293e-03|            2711|     5.045e-03|     1.269e-03|               2662|   4.354e-03|   1.096e-03|             2299|      1.150e+04|\n",
      "|-------------------------------------------------------------------------------------------------------------------------------------------------------------------|\n",
      "| 2.142857142857143|  4.807e-04|  1.202e-04|             252|     4.635e-04|     1.159e-04|                243|   4.539e-04|   1.140e-04|              239|      1.354e+04|\n",
      "|-------------------------------------------------------------------------------------------------------------------------------------------------------------------|\n",
      "| 4.285714285714286|"
     ]
    }
   ],
   "source": [
    "# Import TensorFlow and NumPy\n",
    "import tensorflow as tf\n",
    "import numpy as np\n",
    "\n",
    "# Import Sionna\n",
    "try:\n",
    "    import sionna as sn\n",
    "except ImportError as e:\n",
    "    # Install Sionna if package is not already installed\n",
    "    import os\n",
    "    os.system(\"pip install sionna\")\n",
    "    import sionna as sn\n",
    "\n",
    "# For plotting\n",
    "%matplotlib inline\n",
    "# also try %matplotlib widget\n",
    "\n",
    "import matplotlib.pyplot as plt\n",
    "\n",
    "# for performance measurements\n",
    "import time\n",
    "\n",
    "# For the implementation of the Keras models\n",
    "from tensorflow import keras\n",
    "from keras import Model\n",
    "from UncodedSystemFlatFading import UncodedSystemFlatFading\n",
    "\n",
    "Block_Length = 512         # Block Length (k)\n",
    "NUM_BITS_PER_SYMBOL = 4    # Mapping: 16QAM\n",
    "CONSTELLATION_TYPE = \"qam\" #\n",
    "DEMAPPING_METHOD = \"app\"   # Demapping Method: \"app\"\n",
    "NUM_TX_ANT = 4             # Transmit Antennas\n",
    "NUM_RX_ANT = 16             # Receive Antennas\n",
    "\n",
    "NUM_DATA_GROUP = 1        # Number of Data Group\n",
    "BATCH_SIZE = 1024            # Number of Parallelly Processed Batches\n",
    "EBN0_DB_MIN = 0.0        # Minimum Eb/N0 (dB)\n",
    "EBN0_DB_MAX = 15.0         # Maximum Eb/N0 (dB)\n",
    "NUM_EBN0_POINTS = 8       # EBNO Points\n",
    "\n",
    "model_uncoded_ff = UncodedSystemFlatFading(Block_Length, \n",
    "                                           NUM_BITS_PER_SYMBOL,\n",
    "                                           CONSTELLATION_TYPE,\n",
    "                                           DEMAPPING_METHOD,\n",
    "                                           NUM_RX_ANT,\n",
    "                                           NUM_TX_ANT)\n",
    "\n",
    "model_uncoded_ff(NUM_DATA_GROUP, BATCH_SIZE, EBN0_DB_MIN, EBN0_DB_MAX, NUM_EBN0_POINTS)"
   ]
  }
 ],
 "metadata": {
  "kernelspec": {
   "display_name": "Sionna",
   "language": "python",
   "name": "python3"
  },
  "language_info": {
   "codemirror_mode": {
    "name": "ipython",
    "version": 3
   },
   "file_extension": ".py",
   "mimetype": "text/x-python",
   "name": "python",
   "nbconvert_exporter": "python",
   "pygments_lexer": "ipython3",
   "version": "3.9.13"
  },
  "orig_nbformat": 4
 },
 "nbformat": 4,
 "nbformat_minor": 2
}
