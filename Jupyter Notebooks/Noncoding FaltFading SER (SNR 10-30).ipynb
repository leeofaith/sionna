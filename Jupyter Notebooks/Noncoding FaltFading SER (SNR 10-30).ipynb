{
 "cells": [
  {
   "cell_type": "code",
   "execution_count": 1,
   "metadata": {},
   "outputs": [
    {
     "name": "stderr",
     "output_type": "stream",
     "text": [
      "2023-05-23 15:07:26.623325: I tensorflow/core/platform/cpu_feature_guard.cc:182] This TensorFlow binary is optimized to use available CPU instructions in performance-critical operations.\n",
      "To enable the following instructions: AVX2 FMA, in other operations, rebuild TensorFlow with the appropriate compiler flags.\n"
     ]
    },
    {
     "name": "stdout",
     "output_type": "stream",
     "text": [
      "Number of GPUs available : 0\n",
      "|                                     Data Group 1                                     |\n",
      "|——————————————————————————————————————————————————————————————————————————————————————|\n",
      "|     EBN0[DB]   |    SER(ZF)   |    SER(LMMSE)   |    SER(DIP)   |    Time Spent(s)   |\n",
      "|——————————————————————————————————————————————————————————————————————————————————————|\n",
      "|   -15.00000000   "
     ]
    },
    {
     "ename": "InvalidArgumentError",
     "evalue": "Exception encountered when calling layer 'demapper' (type Demapper).\n\ncannot compute Sub as input #1(zero-based) was expected to be a complex128 tensor but is a complex64 tensor [Op:Sub]\n\nCall arguments received by layer 'demapper' (type Demapper):\n  • inputs=['tf.Tensor(shape=(32, 4, 128), dtype=complex128)', 'tf.Tensor(shape=(32, 4, 128), dtype=float32)']",
     "output_type": "error",
     "traceback": [
      "\u001b[0;31m---------------------------------------------------------------------------\u001b[0m",
      "\u001b[0;31mInvalidArgumentError\u001b[0m                      Traceback (most recent call last)",
      "Cell \u001b[0;32mIn[1], line 48\u001b[0m\n\u001b[1;32m     39\u001b[0m NUM_EBN0_POINTS \u001b[39m=\u001b[39m \u001b[39m16\u001b[39m        \u001b[39m# EBNO Points\u001b[39;00m\n\u001b[1;32m     41\u001b[0m model_uncoded_ff \u001b[39m=\u001b[39m UncodedSystemFlatFading(Block_Length, \n\u001b[1;32m     42\u001b[0m                                            NUM_BITS_PER_SYMBOL,\n\u001b[1;32m     43\u001b[0m                                            CONSTELLATION_TYPE,\n\u001b[1;32m     44\u001b[0m                                            DEMAPPING_METHOD,\n\u001b[1;32m     45\u001b[0m                                            NUM_RX_ANT,\n\u001b[1;32m     46\u001b[0m                                            NUM_TX_ANT)\n\u001b[0;32m---> 48\u001b[0m model_uncoded_ff(NUM_DATA_GROUP, \n\u001b[1;32m     49\u001b[0m                  BATCH_SIZE, \n\u001b[1;32m     50\u001b[0m                  EBN0_DB_MIN, \n\u001b[1;32m     51\u001b[0m                  EBN0_DB_MAX, \n\u001b[1;32m     52\u001b[0m                  NUM_EBN0_POINTS)\n",
      "File \u001b[0;32m~/Documents/GitHub/sionna/Jupyter Notebooks/UncodedSystemFlatFading.py:197\u001b[0m, in \u001b[0;36mUncodedSystemFlatFading.__call__\u001b[0;34m(self, NUM_DATA_GROUP, BATCH_SIZE, EBN0_DB_MIN, EBN0_DB_MAX, NUM_EBN0_POINTS)\u001b[0m\n\u001b[1;32m    195\u001b[0m llr_zf \u001b[39m=\u001b[39m \u001b[39mself\u001b[39m\u001b[39m.\u001b[39mdemapper([x_hat_zf, no_eff_zf])\n\u001b[1;32m    196\u001b[0m llr_lmmse \u001b[39m=\u001b[39m \u001b[39mself\u001b[39m\u001b[39m.\u001b[39mdemapper([x_hat_lmmse, no_eff_lmmse])\n\u001b[0;32m--> 197\u001b[0m llr_dip \u001b[39m=\u001b[39m \u001b[39mself\u001b[39;49m\u001b[39m.\u001b[39;49mdemapper([x_hat_dip, no_eff_lmmse])\n\u001b[1;32m    199\u001b[0m b_hat_zf \u001b[39m=\u001b[39m hard_decisions(llr_zf)\n\u001b[1;32m    200\u001b[0m b_hat_lmmse \u001b[39m=\u001b[39m hard_decisions(llr_lmmse)\n",
      "File \u001b[0;32m/opt/anaconda3/envs/Sionna/lib/python3.9/site-packages/keras/utils/traceback_utils.py:70\u001b[0m, in \u001b[0;36mfilter_traceback.<locals>.error_handler\u001b[0;34m(*args, **kwargs)\u001b[0m\n\u001b[1;32m     67\u001b[0m     filtered_tb \u001b[39m=\u001b[39m _process_traceback_frames(e\u001b[39m.\u001b[39m__traceback__)\n\u001b[1;32m     68\u001b[0m     \u001b[39m# To get the full stack trace, call:\u001b[39;00m\n\u001b[1;32m     69\u001b[0m     \u001b[39m# `tf.debugging.disable_traceback_filtering()`\u001b[39;00m\n\u001b[0;32m---> 70\u001b[0m     \u001b[39mraise\u001b[39;00m e\u001b[39m.\u001b[39mwith_traceback(filtered_tb) \u001b[39mfrom\u001b[39;00m \u001b[39mNone\u001b[39m\n\u001b[1;32m     71\u001b[0m \u001b[39mfinally\u001b[39;00m:\n\u001b[1;32m     72\u001b[0m     \u001b[39mdel\u001b[39;00m filtered_tb\n",
      "File \u001b[0;32m/opt/anaconda3/envs/Sionna/lib/python3.9/site-packages/sionna/mapping.py:1062\u001b[0m, in \u001b[0;36mDemapper.call\u001b[0;34m(self, inputs)\u001b[0m\n\u001b[1;32m   1059\u001b[0m num_bits_per_symbol \u001b[39m=\u001b[39m \u001b[39mself\u001b[39m\u001b[39m.\u001b[39mconstellation\u001b[39m.\u001b[39mnum_bits_per_symbol\n\u001b[1;32m   1060\u001b[0m null_prior \u001b[39m=\u001b[39m tf\u001b[39m.\u001b[39mzeros([num_bits_per_symbol], y\u001b[39m.\u001b[39mdtype\u001b[39m.\u001b[39mreal_dtype)\n\u001b[0;32m-> 1062\u001b[0m \u001b[39mreturn\u001b[39;00m \u001b[39msuper\u001b[39;49m()\u001b[39m.\u001b[39;49mcall([y, null_prior, no])\n",
      "File \u001b[0;32m/opt/anaconda3/envs/Sionna/lib/python3.9/site-packages/sionna/mapping.py:939\u001b[0m, in \u001b[0;36mDemapperWithPrior.call\u001b[0;34m(self, inputs)\u001b[0m\n\u001b[1;32m    935\u001b[0m points \u001b[39m=\u001b[39m tf\u001b[39m.\u001b[39mreshape(\u001b[39mself\u001b[39m\u001b[39m.\u001b[39mconstellation\u001b[39m.\u001b[39mpoints, points_shape)\n\u001b[1;32m    937\u001b[0m \u001b[39m# Compute squared distances from y to all points\u001b[39;00m\n\u001b[1;32m    938\u001b[0m \u001b[39m# shape [...,n,num_points]\u001b[39;00m\n\u001b[0;32m--> 939\u001b[0m squared_dist \u001b[39m=\u001b[39m tf\u001b[39m.\u001b[39mpow(tf\u001b[39m.\u001b[39mabs(tf\u001b[39m.\u001b[39;49mexpand_dims(y, axis\u001b[39m=\u001b[39;49m\u001b[39m-\u001b[39;49m\u001b[39m1\u001b[39;49m) \u001b[39m-\u001b[39;49m points), \u001b[39m2\u001b[39m)\n\u001b[1;32m    941\u001b[0m \u001b[39m# Add a dummy dimension for broadcasting. This is not needed when no\u001b[39;00m\n\u001b[1;32m    942\u001b[0m \u001b[39m# is a scalar, but also does not do any harm.\u001b[39;00m\n\u001b[1;32m    943\u001b[0m no \u001b[39m=\u001b[39m tf\u001b[39m.\u001b[39mexpand_dims(no, axis\u001b[39m=\u001b[39m\u001b[39m-\u001b[39m\u001b[39m1\u001b[39m)\n",
      "\u001b[0;31mInvalidArgumentError\u001b[0m: Exception encountered when calling layer 'demapper' (type Demapper).\n\ncannot compute Sub as input #1(zero-based) was expected to be a complex128 tensor but is a complex64 tensor [Op:Sub]\n\nCall arguments received by layer 'demapper' (type Demapper):\n  • inputs=['tf.Tensor(shape=(32, 4, 128), dtype=complex128)', 'tf.Tensor(shape=(32, 4, 128), dtype=float32)']"
     ]
    }
   ],
   "source": [
    "# Import TensorFlow and NumPy\n",
    "import tensorflow as tf\n",
    "import numpy as np\n",
    "\n",
    "# Import Sionna\n",
    "try:\n",
    "    import sionna as sn\n",
    "except ImportError as e:\n",
    "    # Install Sionna if package is not already installed\n",
    "    import os\n",
    "    os.system(\"pip install sionna\")\n",
    "    import sionna as sn\n",
    "\n",
    "# For plotting\n",
    "%matplotlib inline\n",
    "# also try %matplotlib widget\n",
    "\n",
    "import matplotlib.pyplot as plt\n",
    "\n",
    "# for performance measurements\n",
    "import time\n",
    "\n",
    "# For the implementation of the Keras models\n",
    "from tensorflow import keras\n",
    "from keras import Model\n",
    "from UncodedSystemFlatFading import UncodedSystemFlatFading\n",
    "\n",
    "Block_Length = 512         # Block Length (k)\n",
    "NUM_BITS_PER_SYMBOL = 4    # Mapping: 16QAM\n",
    "CONSTELLATION_TYPE = \"qam\" #\n",
    "DEMAPPING_METHOD = \"app\"   # Demapping Method: \"app\"\n",
    "NUM_TX_ANT = 4             # Transmit Antennas\n",
    "NUM_RX_ANT = 4             # Receive Antennas\n",
    "\n",
    "NUM_DATA_GROUP = 5         # Number of Data Group\n",
    "BATCH_SIZE = 32            # Number of Parallelly Processed Batches\n",
    "EBN0_DB_MIN = -15.0        # Minimum Eb/N0 (dB)\n",
    "EBN0_DB_MAX = 15.0         # Maximum Eb/N0 (dB)\n",
    "NUM_EBN0_POINTS = 16        # EBNO Points\n",
    "\n",
    "model_uncoded_ff = UncodedSystemFlatFading(Block_Length, \n",
    "                                           NUM_BITS_PER_SYMBOL,\n",
    "                                           CONSTELLATION_TYPE,\n",
    "                                           DEMAPPING_METHOD,\n",
    "                                           NUM_RX_ANT,\n",
    "                                           NUM_TX_ANT)\n",
    "\n",
    "model_uncoded_ff(NUM_DATA_GROUP, \n",
    "                 BATCH_SIZE, \n",
    "                 EBN0_DB_MIN, \n",
    "                 EBN0_DB_MAX, \n",
    "                 NUM_EBN0_POINTS);"
   ]
  }
 ],
 "metadata": {
  "kernelspec": {
   "display_name": "sionna",
   "language": "python",
   "name": "python3"
  },
  "language_info": {
   "codemirror_mode": {
    "name": "ipython",
    "version": 3
   },
   "file_extension": ".py",
   "mimetype": "text/x-python",
   "name": "python",
   "nbconvert_exporter": "python",
   "pygments_lexer": "ipython3",
   "version": "3.9.13"
  },
  "orig_nbformat": 4
 },
 "nbformat": 4,
 "nbformat_minor": 2
}
